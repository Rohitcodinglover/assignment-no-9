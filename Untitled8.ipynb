{
 "cells": [
  {
   "cell_type": "code",
   "execution_count": 1,
   "id": "9712334f-a87e-42fb-853e-e14949f11190",
   "metadata": {},
   "outputs": [
    {
     "name": "stdout",
     "output_type": "stream",
     "text": [
      "After extend([50, 60, 70]): deque([5, 10, 20, 30, 40, 50, 60, 70])\n",
      "After extendleft([0, 5]): deque([5, 0, 5, 10, 20, 30, 40, 50, 60, 70])\n",
      "After remove(20): deque([5, 0, 5, 10, 30, 40, 50, 60, 70])\n",
      "After pop and popleft: deque([0, 5, 10, 30, 40, 50, 60])\n",
      "After clear(): deque([])\n"
     ]
    }
   ],
   "source": [
    "## 1) Why might you choose a deque from the collections module to implement a queue instead of using a regular Python list?\n",
    "\n",
    "from collections import deque\n",
    "\n",
    "dq = deque([10, 20, 30])\n",
    "\n",
    "# Add elements to the right\n",
    "dq.append(40)  \n",
    "\n",
    "# Add elements to the left\n",
    "dq.appendleft(5)  \n",
    "\n",
    "# extend(iterable)\n",
    "dq.extend([50, 60, 70]) \n",
    "print(\"After extend([50, 60, 70]):\", dq)\n",
    "\n",
    "# extendleft(iterable)\n",
    "dq.extendleft([0, 5])  \n",
    "print(\"After extendleft([0, 5]):\", dq)\n",
    "\n",
    "# remove method\n",
    "dq.remove(20)\n",
    "print(\"After remove(20):\", dq)\n",
    "\n",
    "# Remove elements from the right\n",
    "dq.pop()\n",
    "\n",
    "# Remove elements from the left\n",
    "dq.popleft()  \n",
    "\n",
    "print(\"After pop and popleft:\", dq)\n",
    "\n",
    "# clear() - Removes all elements from the deque\n",
    "dq.clear()  # deque: []\n",
    "print(\"After clear():\", dq)"
   ]
  },
  {
   "cell_type": "code",
   "execution_count": 2,
   "id": "25802794-5f86-4e2d-83ac-04d8309da0f7",
   "metadata": {},
   "outputs": [
    {
     "name": "stdout",
     "output_type": "stream",
     "text": [
      "Initial stack\n",
      "['m', 'n', 'o']\n",
      "\n",
      "Elements popped from stack:\n",
      "o\n",
      "n\n",
      "m\n",
      "\n",
      "Stack after elements are popped:\n",
      "[]\n"
     ]
    }
   ],
   "source": [
    " ## 2) Can you explain a real-world scenario where using a stack would be a more practical choice than a list for data storage and retrieval?\n",
    "\n",
    "stack = []\n",
    "\n",
    "# append() function to push\n",
    "# element in the stack\n",
    "\n",
    "stack.append('m')\n",
    "stack.append('n')\n",
    "stack.append('o')\n",
    "\n",
    "print('Initial stack')\n",
    "print(stack)\n",
    "\n",
    "# pop() function to pop\n",
    "# element from stack in\n",
    "# LIFO order\n",
    "print('\\nElements popped from stack:')\n",
    "print(stack.pop())\n",
    "print(stack.pop())\n",
    "print(stack.pop())\n",
    "\n",
    "print('\\nStack after elements are popped:')\n",
    "print(stack)\n",
    "\n",
    "# uncommenting print(stack.pop())\n",
    "# will cause an IndexError\n",
    "# as the stack is now empty"
   ]
  },
  {
   "cell_type": "code",
   "execution_count": 12,
   "id": "fc969a2e-3586-4a15-9d90-840f8cbe2a9c",
   "metadata": {},
   "outputs": [
    {
     "name": "stdout",
     "output_type": "stream",
     "text": [
      "set()\n",
      "{'o', 'B', 'e', 'M', 'y', 'r', ' ', 'a', 'g', 't', 'n', 'O', 'P', 'p'}\n",
      "{'Potato', 'Orange', 'Banana', ' Mango', 'Papaya'}\n",
      "{'Potato', 'Orange', 'Banana', ' Mango', 'Papaya'}\n",
      "{'Orange', 'Potato', 'Banana', ' Mango', 'Papaya'}\n"
     ]
    }
   ],
   "source": [
    "## What is the primary advantage of using sets in Python, and in what type of problem-solving scenarios are they most useful?\n",
    "\n",
    "# Creating a Set\n",
    "set1 = set()\n",
    "print(set1)\n",
    "\n",
    "set1 = set(\"Banana Mango Papaya Potato Orange Banana\")\n",
    "print(set1)\n",
    "\n",
    "# Creating a Set with the use of a List\n",
    "set1 = set([\"Banana\",\" Mango\", \"Papaya\", \"Potato\", \"Orange\",\"Banana\"])# to print a unique value.\n",
    "print(set1)\n",
    "\n",
    "# Creating a Set with the use of a tuple\n",
    "tup = (\"Banana\",\" Mango\", \"Papaya\", \"Potato\", \"Orange\")\n",
    "print(set(tup))\n",
    "\n",
    "# Creating a Set with the use of a dictionary\n",
    "d = {\"Banana\":1,\" Mango\":2, \"Papaya\":3, \"Potato\":4, \"Orange\":5}\n",
    "print(set(d))"
   ]
  },
  {
   "cell_type": "code",
   "execution_count": 16,
   "id": "58d8fcfc-1f61-48c2-ad94-81df7d9752de",
   "metadata": {},
   "outputs": [
    {
     "name": "stdout",
     "output_type": "stream",
     "text": [
      "array('i', [5, 8])\n",
      "[5, 8]\n"
     ]
    }
   ],
   "source": [
    "##  When might you choose to use an array instead of a list for storing numerical data in Python? What benefits do arrays offer in this context?\n",
    "\n",
    "'''I know that arrays can only hold one datatype and Python has a module for array's but why does python have a specific module for array's because if we want we can create a list with the same datatype.\n",
    "\n",
    "So what it the actual advantage of having a array module in python?\n",
    "\n",
    "This is a array '''\n",
    "\n",
    "from array import *\n",
    "\n",
    "a = array(\"i\", [5, 8])\n",
    "print(a)\n",
    "\n",
    "# I can do the same exact thing with a list:\n",
    "\n",
    "a = [5, 8]\n",
    "print(a)"
   ]
  },
  {
   "cell_type": "code",
   "execution_count": null,
   "id": "b081231e-7b9a-4da0-a5ca-ad6711c28651",
   "metadata": {},
   "outputs": [],
   "source": [
    "## In Python, what's the primary difference between dictionaries and lists, and how does this difference impact their use cases in programming?\n",
    "\n",
    "''' Lists and Dictionaries in Python are inbuilt data structures that are used to store data. Lists are linear in nature whereas dictionaries\n",
    "stored the data in key-value pairs. In this article, we will see the difference between the two and find out the time complexities\n",
    "and space complexities which arises when we try to store data and try to perform certain operations on them. '''\n",
    "\n",
    "#Creating a new List\n",
    "a = [\"Geeks\", \"For\", \"Geeks\"] # List of Strings\n",
    "print(a) \n",
    "\n",
    "# Accessing particular elements\n",
    "print(a[0])  \n",
    "print(a[0][1])\n",
    "print(a[1]) \n",
    "  \n",
    "# Creating a 2D List \n",
    "a = [['Geeks', 'For'], ['Geeks']] \n",
    "print(a) \n",
    "\n",
    "# Accessing particular elements\n",
    "print(a[0])\n",
    "print(a[0][1])\n",
    "print(a[1])\n",
    "\n",
    "Creating a Dictionary with Integer Keys \n",
    "Dict = {1: 'Geeks', 2: 'For', 3: 'Geeks'} \n",
    "print(\"Dictionary with the use of Integer Keys: \", Dict) \n",
    "\n",
    "# Accessing particular elements\n",
    "print(Dict[1])\n",
    "print(Dict[2])\n",
    "  \n",
    "# Creating a Dictionary with Mixed keys \n",
    "Dict = {'Name': 'Geeks', 1: [1, 2, 3, 4]} \n",
    "print(\"\\nDictionary with the use of Mixed Keys: \", Dict) \n",
    "\n",
    "# Accessing particular elements\n",
    "print(Dict['Name'])\n",
    "print(Dict[1])\n"
   ]
  }
 ],
 "metadata": {
  "kernelspec": {
   "display_name": "Python 3 (ipykernel)",
   "language": "python",
   "name": "python3"
  },
  "language_info": {
   "codemirror_mode": {
    "name": "ipython",
    "version": 3
   },
   "file_extension": ".py",
   "mimetype": "text/x-python",
   "name": "python",
   "nbconvert_exporter": "python",
   "pygments_lexer": "ipython3",
   "version": "3.12.4"
  }
 },
 "nbformat": 4,
 "nbformat_minor": 5
}
